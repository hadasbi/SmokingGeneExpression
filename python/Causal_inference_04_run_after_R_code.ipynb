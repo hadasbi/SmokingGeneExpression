{
 "cells": [
  {
   "cell_type": "code",
   "execution_count": 1,
   "metadata": {},
   "outputs": [],
   "source": [
    "import pandas as pd\n",
    "import numpy as np"
   ]
  },
  {
   "cell_type": "code",
   "execution_count": 2,
   "metadata": {},
   "outputs": [],
   "source": [
    "from funcs import *"
   ]
  },
  {
   "cell_type": "code",
   "execution_count": 3,
   "metadata": {},
   "outputs": [],
   "source": [
    "########### Load the results of the genetic matching (computed in R) ##########################"
   ]
  },
  {
   "cell_type": "code",
   "execution_count": 5,
   "metadata": {},
   "outputs": [],
   "source": [
    "genetic_ate_table = pd.read_csv(genetic_ate_table_file, index_col=0)\n",
    "genetic_ate_table = genetic_ate_table.sort_values(by='ate', ascending=False)\n",
    "genetic_ate_table = add_gene_names(genetic_ate_table)\n",
    "genetic_ate_table.to_csv(genetic_ate_table_file)"
   ]
  },
  {
   "cell_type": "code",
   "execution_count": null,
   "metadata": {},
   "outputs": [],
   "source": [
    "########### Load the results of the ps sensitivity (computed in R) ##########################"
   ]
  },
  {
   "cell_type": "code",
   "execution_count": null,
   "metadata": {},
   "outputs": [],
   "source": [
    "ps_sensitivity_ate_table = pd.read_csv(ps_sensitivity_ate_table_file, index_col=0)\n",
    "ps_sensitivity_ate_table = ps_sensitivity_ate_table.sort_values(by='ate', ascending=False)\n",
    "ps_sensitivity_ate_table = add_gene_names(ps_sensitivity_ate_table)\n",
    "ps_sensitivity_ate_table.to_csv(ps_sensitivity_ate_table_file)"
   ]
  },
  {
   "cell_type": "code",
   "execution_count": null,
   "metadata": {},
   "outputs": [],
   "source": [
    "########### Load the results of the cov sensitivity (computed in R) ##########################"
   ]
  },
  {
   "cell_type": "code",
   "execution_count": null,
   "metadata": {},
   "outputs": [],
   "source": [
    "cov_sensitivity_ate_table = pd.read_csv(cov_sensitivity_ate_table_file, index_col=0)\n",
    "cov_sensitivity_ate_table = cov_sensitivity_ate_table.sort_values(by='ate', ascending=False)\n",
    "cov_sensitivity_ate_table = add_gene_names(cov_sensitivity_ate_table)\n",
    "cov_sensitivity_ate_table.to_csv(cov_sensitivity_ate_table_file)"
   ]
  }
 ],
 "metadata": {
  "kernelspec": {
   "display_name": "Python 3",
   "language": "python",
   "name": "python3"
  },
  "language_info": {
   "codemirror_mode": {
    "name": "ipython",
    "version": 3
   },
   "file_extension": ".py",
   "mimetype": "text/x-python",
   "name": "python",
   "nbconvert_exporter": "python",
   "pygments_lexer": "ipython3",
   "version": "3.7.1"
  }
 },
 "nbformat": 4,
 "nbformat_minor": 4
}
