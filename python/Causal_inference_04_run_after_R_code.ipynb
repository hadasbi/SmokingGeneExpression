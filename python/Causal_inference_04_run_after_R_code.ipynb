{
 "cells": [
  {
   "cell_type": "code",
   "execution_count": 4,
   "metadata": {},
   "outputs": [],
   "source": [
    "import pandas as pd\n",
    "import numpy as np\n",
    "import matplotlib.pyplot as plt\n",
    "import json\n",
    "import requests\n",
    "import re\n",
    "from copy import deepcopy\n",
    "from sklearn.decomposition import PCA\n",
    "from numpy import savetxt, loadtxt\n",
    "from scipy.stats import ranksums,mannwhitneyu\n",
    "from statsmodels.stats.multitest import fdrcorrection\n",
    "import graphviz\n",
    "from scipy.stats import rankdata,spearmanr,pearsonr\n",
    "from sklearn.linear_model import LogisticRegression\n",
    "from scipy.special import logit\n",
    "from sklearn.neighbors import NearestNeighbors\n",
    "from joblib import Parallel, delayed"
   ]
  },
  {
   "cell_type": "code",
   "execution_count": 5,
   "metadata": {},
   "outputs": [],
   "source": [
    "from matplotlib import style\n",
    "import seaborn as sns\n",
    "import statsmodels.formula.api as smf\n",
    "\n",
    "import graphviz as gr\n",
    "\n",
    "%matplotlib inline\n",
    "\n",
    "style.use(\"fivethirtyeight\")\n",
    "pd.set_option(\"display.max_columns\", 6)"
   ]
  },
  {
   "cell_type": "code",
   "execution_count": 6,
   "metadata": {},
   "outputs": [],
   "source": [
    "target_list_symbols_file_name = 'hsapiens_gene_names.csv'\n",
    "target_list_symbols = pd.read_csv(target_list_symbols_file_name, index_col=0)"
   ]
  },
  {
   "cell_type": "code",
   "execution_count": 7,
   "metadata": {},
   "outputs": [],
   "source": [
    "def add_gene_names(table):\n",
    "    table['ENSG'] = [x[:x.find('.')] for x in table.index]\n",
    "    table = pd.merge(table,target_list_symbols,how='left',left_on='ENSG',right_index=True)\n",
    "    table = table[['external_gene_name']+list(table.columns[:-1])]\n",
    "    table = table.drop('ENSG', axis=1)\n",
    "    return table"
   ]
  },
  {
   "cell_type": "code",
   "execution_count": 8,
   "metadata": {},
   "outputs": [],
   "source": [
    "########### Load the results of the genetic matching (computed in R) ##########################"
   ]
  },
  {
   "cell_type": "code",
   "execution_count": 10,
   "metadata": {},
   "outputs": [],
   "source": [
    "genetic_ate_table_file = '../results/normal_samples_only/ate_genetic_sensitivity.txt'\n",
    "genetic_ate_table = pd.read_csv(genetic_ate_table_file, index_col=0)\n",
    "genetic_ate_table = genetic_ate_table.sort_values(by='ate', ascending=False)\n",
    "genetic_ate_table = add_gene_names(genetic_ate_table)\n",
    "genetic_ate_table.to_csv(genetic_ate_table_file)"
   ]
  },
  {
   "cell_type": "code",
   "execution_count": 11,
   "metadata": {},
   "outputs": [],
   "source": [
    "########### Load the results of the ps sensitivity (computed in R) ##########################"
   ]
  },
  {
   "cell_type": "code",
   "execution_count": 18,
   "metadata": {},
   "outputs": [],
   "source": [
    "ps_sensitivity_ate_table_file = '../results/normal_samples_only/ate_ps_sensitivity.txt'\n",
    "ps_sensitivity_ate_table = pd.read_csv(ps_sensitivity_ate_table_file, index_col=0)\n",
    "ps_sensitivity_ate_table = ps_sensitivity_ate_table.sort_values(by='ate', ascending=False)\n",
    "ps_sensitivity_ate_table = add_gene_names(ps_sensitivity_ate_table)\n",
    "ps_sensitivity_ate_table.to_csv(ps_sensitivity_ate_table_file)"
   ]
  },
  {
   "cell_type": "code",
   "execution_count": 19,
   "metadata": {},
   "outputs": [],
   "source": [
    "########### Load the results of the cov sensitivity (computed in R) ##########################"
   ]
  },
  {
   "cell_type": "code",
   "execution_count": 20,
   "metadata": {},
   "outputs": [],
   "source": [
    "cov_sensitivity_ate_table_file = '../results/normal_samples_only/ate_cov_sensitivity.txt'\n",
    "cov_sensitivity_ate_table = pd.read_csv(cov_sensitivity_ate_table_file, index_col=0)\n",
    "cov_sensitivity_ate_table = cov_sensitivity_ate_table.sort_values(by='ate', ascending=False)\n",
    "cov_sensitivity_ate_table = add_gene_names(cov_sensitivity_ate_table)\n",
    "cov_sensitivity_ate_table.to_csv(cov_sensitivity_ate_table_file)"
   ]
  },
  {
   "cell_type": "code",
   "execution_count": null,
   "metadata": {},
   "outputs": [],
   "source": []
  },
  {
   "cell_type": "code",
   "execution_count": null,
   "metadata": {},
   "outputs": [],
   "source": []
  }
 ],
 "metadata": {
  "kernelspec": {
   "display_name": "Python 3",
   "language": "python",
   "name": "python3"
  },
  "language_info": {
   "codemirror_mode": {
    "name": "ipython",
    "version": 3
   },
   "file_extension": ".py",
   "mimetype": "text/x-python",
   "name": "python",
   "nbconvert_exporter": "python",
   "pygments_lexer": "ipython3",
   "version": "3.7.1"
  }
 },
 "nbformat": 4,
 "nbformat_minor": 4
}
